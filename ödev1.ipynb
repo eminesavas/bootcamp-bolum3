{
 "cells": [
  {
   "cell_type": "code",
   "execution_count": 6,
   "metadata": {},
   "outputs": [
    {
     "name": "stdout",
     "output_type": "stream",
     "text": [
      "Bir hafta sonunda para miktarı:2210.68$\n"
     ]
    }
   ],
   "source": [
    "miktar=1000\n",
    "hesap=miktar*(112/100)**7\n",
    "print('Bir hafta sonunda para miktarı:{:.2f}$'.format(hesap))"
   ]
  },
  {
   "cell_type": "code",
   "execution_count": 9,
   "metadata": {},
   "outputs": [
    {
     "name": "stdout",
     "output_type": "stream",
     "text": [
      "Hafta başında 1000 dolarlık bitcoin aldığımızda günde ortalama 12% kazançla,bir hafta sonunda 1210.68\n",
      "dolar kazanırdık.\n"
     ]
    }
   ],
   "source": [
    "miktar=1000\n",
    "gunluk_ortalama=12\n",
    "kazanc=hesap-miktar\n",
    "print(\"\"\"Hafta başında {} dolarlık bitcoin aldığımızda günde ortalama {}% kazançla,bir hafta sonunda {:.2f}\n",
    "dolar kazanırdık.\"\"\".format(miktar,gunluk_ortalama,kazanc))"
   ]
  },
  {
   "cell_type": "code",
   "execution_count": 1,
   "metadata": {},
   "outputs": [
    {
     "name": "stdout",
     "output_type": "stream",
     "text": [
      "Dosya adını giriniz:bootcamp\n",
      "Dosya adınız:bootcamp.py\n"
     ]
    }
   ],
   "source": [
    "dosya_adı=input('Dosya adını giriniz:')\n",
    "print(\"Dosya adınız:{}.py\".format(dosya_adı))"
   ]
  }
 ],
 "metadata": {
  "kernelspec": {
   "display_name": "Python 3",
   "language": "python",
   "name": "python3"
  },
  "language_info": {
   "codemirror_mode": {
    "name": "ipython",
    "version": 3
   },
   "file_extension": ".py",
   "mimetype": "text/x-python",
   "name": "python",
   "nbconvert_exporter": "python",
   "pygments_lexer": "ipython3",
   "version": "3.6.8"
  }
 },
 "nbformat": 4,
 "nbformat_minor": 2
}

{
 "cells": [
  {
   "cell_type": "markdown",
   "metadata": {},
   "source": [
    "# ÖDEV 1 (Temel İstatistik Kavramları)"
   ]
  },
  {
   "cell_type": "code",
   "execution_count": 1,
   "metadata": {},
   "outputs": [],
   "source": [
    "import numpy as np\n",
    "yas_dizi = np.array([18, 25, 22, 19, 26, 27, 19, 28, 30, 24])\n",
    "boy_dizi = np.array([1.81, 1.67, 1.71, 1.89, 1.79, 1.75, 1.80, 1.78, 1.89, 1.82])\n",
    "agirlik_dizi = np.array([81, 72, 74, 88, 82, 77, 74, 70, 90, 85])"
   ]
  },
  {
   "cell_type": "code",
   "execution_count": 2,
   "metadata": {},
   "outputs": [
    {
     "name": "stdout",
     "output_type": "stream",
     "text": [
      "23.8\n",
      "1.791\n",
      "79.3\n",
      "23.8\n",
      "1.791\n",
      "79.3\n"
     ]
    }
   ],
   "source": [
    "# Hazır (built-in) Python fonksiyonları kullanarak ortalama hesaplama\n",
    "\n",
    "print (sum (yas_dizi) / len (yas_dizi))\n",
    "print (sum (boy_dizi) / len (boy_dizi))\n",
    "print (sum (agirlik_dizi) / len (agirlik_dizi))\n",
    "\n",
    "# Matematiksel Formülle\n",
    "\n",
    "print(np.mean(yas_dizi))\n",
    "print(np.mean(boy_dizi))\n",
    "print(np.mean(agirlik_dizi))"
   ]
  },
  {
   "cell_type": "code",
   "execution_count": 3,
   "metadata": {},
   "outputs": [
    {
     "name": "stdout",
     "output_type": "stream",
     "text": [
      "24.5\n",
      "1.795\n",
      "79.0\n",
      "24.5\n",
      "1.795\n",
      "79.0\n"
     ]
    }
   ],
   "source": [
    "# Python ile Medyan\n",
    "import statistics\n",
    "\n",
    "print(statistics.median(yas_dizi))\n",
    "print(statistics.median(boy_dizi))\n",
    "print(statistics.median(agirlik_dizi))\n",
    "\n",
    "# Numpy ile Medyan\n",
    "\n",
    "print(np.median(yas_dizi))\n",
    "print(np.median(boy_dizi))\n",
    "print(np.median(agirlik_dizi))"
   ]
  },
  {
   "cell_type": "code",
   "execution_count": 4,
   "metadata": {},
   "outputs": [
    {
     "name": "stdout",
     "output_type": "stream",
     "text": [
      "19\n",
      "1.89\n",
      "74\n",
      "19\n",
      "1.89\n",
      "74\n"
     ]
    }
   ],
   "source": [
    "# Python ile Mod\n",
    "import statistics\n",
    "\n",
    "print (statistics.mode(yas_dizi))\n",
    "print (statistics.mode(boy_dizi))\n",
    "print (statistics.mode(agirlik_dizi))\n",
    "# Numpy ile Medyan\n",
    "\n",
    "(values1, counts1) = np.unique(yas_dizi, return_counts=True)\n",
    "ind1 = np.argmax(counts1)\n",
    "print (values1[ind1])\n",
    "\n",
    "(values2, counts2) = np.unique(boy_dizi, return_counts=True)\n",
    "ind2 = np.argmax(counts2)\n",
    "print (values2[ind2])\n",
    "\n",
    "(values3, counts3) = np.unique(agirlik_dizi, return_counts=True)\n",
    "ind3 = np.argmax(counts3)\n",
    "print (values3[ind3])"
   ]
  },
  {
   "cell_type": "code",
   "execution_count": 5,
   "metadata": {},
   "outputs": [
    {
     "name": "stdout",
     "output_type": "stream",
     "text": [
      "17.288888888888888\n",
      "15.559999999999999\n",
      "0.0048766666666666654\n",
      "0.004388999999999999\n",
      "48.23333333333333\n",
      "43.41\n"
     ]
    }
   ],
   "source": [
    "# NumPy ve Pandas ile varyans hesaplama\n",
    "print(np.var(yas_dizi, ddof=1))\n",
    "print(yas_dizi.var())\n",
    "print(np.var(boy_dizi, ddof=1))\n",
    "print(boy_dizi.var())\n",
    "print(np.var(agirlik_dizi, ddof=1))\n",
    "print(agirlik_dizi.var())"
   ]
  },
  {
   "cell_type": "code",
   "execution_count": 6,
   "metadata": {},
   "outputs": [
    {
     "name": "stdout",
     "output_type": "stream",
     "text": [
      "4.157990967870047\n",
      "0.06983313444681304\n",
      "6.945022198188666\n"
     ]
    }
   ],
   "source": [
    "# Standart Sapma\n",
    "\n",
    "print (np.std(yas_dizi, ddof=1))\n",
    "print (np.std(boy_dizi, ddof=1))\n",
    "print (np.std(agirlik_dizi, ddof=1))"
   ]
  },
  {
   "cell_type": "code",
   "execution_count": 7,
   "metadata": {},
   "outputs": [
    {
     "name": "stdout",
     "output_type": "stream",
     "text": [
      "1.3148721948877347\n",
      "0.022083176100069178\n",
      "2.1962088546705507\n"
     ]
    }
   ],
   "source": [
    "# Standart Hata\n",
    "\n",
    "print(np.std(yas_dizi,ddof=1) / np.sqrt(len(yas_dizi)))\n",
    "print(np.std(boy_dizi,ddof=1) / np.sqrt(len(boy_dizi)))\n",
    "print(np.std(agirlik_dizi,ddof=1) / np.sqrt(len(agirlik_dizi)))"
   ]
  },
  {
   "cell_type": "code",
   "execution_count": null,
   "metadata": {},
   "outputs": [],
   "source": []
  }
 ],
 "metadata": {
  "kernelspec": {
   "display_name": "Python 3",
   "language": "python",
   "name": "python3"
  },
  "language_info": {
   "codemirror_mode": {
    "name": "ipython",
    "version": 3
   },
   "file_extension": ".py",
   "mimetype": "text/x-python",
   "name": "python",
   "nbconvert_exporter": "python",
   "pygments_lexer": "ipython3",
   "version": "3.6.8"
  }
 },
 "nbformat": 4,
 "nbformat_minor": 2
}
